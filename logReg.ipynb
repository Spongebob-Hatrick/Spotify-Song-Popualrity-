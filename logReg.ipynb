{
 "cells": [
  {
   "cell_type": "markdown",
   "id": "bed96c16",
   "metadata": {},
   "source": [
    "## Loading the data & cleaning (if necessary)"
   ]
  },
  {
   "cell_type": "markdown",
   "id": "228133c6",
   "metadata": {},
   "source": [
    "# **Spotify Popularity Prediction**"
   ]
  },
  {
   "cell_type": "markdown",
   "id": "0f68af24",
   "metadata": {},
   "source": [
    " By: Chad Rivera, Cheng Wu, Kyle Kirejczyk"
   ]
  },
  {
   "cell_type": "markdown",
   "id": "c4b2a57d",
   "metadata": {},
   "source": [
    "## Import all the libraries"
   ]
  },
  {
   "cell_type": "code",
   "execution_count": 9,
   "id": "6108c6ed",
   "metadata": {},
   "outputs": [],
   "source": [
    "\n",
    "#importing everything from the hw's \n",
    "from matplotlib import pyplot as plt\n",
    "import numpy as np\n",
    "import matplotlib.cm as cm\n",
    "import statistics\n",
    "import pandas as pd\n",
    "import seaborn as sns\n",
    "import statsmodels.api as sm\n",
    "from ISLP import load_data\n",
    "from sklearn.metrics import confusion_matrix, accuracy_score, roc_curve, auc, roc_auc_score,classification_report, f1_score, recall_score, precision_score\n",
    "import math\n",
    "from sklearn.discriminant_analysis import LinearDiscriminantAnalysis\n",
    "from sklearn.neighbors import KNeighborsClassifier\n",
    "from sklearn.model_selection import train_test_split, cross_val_score, GridSearchCV\n",
    "from sklearn.linear_model import LogisticRegression\n",
    "from sklearn.cluster import KMeans\n",
    "from scipy.cluster.hierarchy import linkage, dendrogram, fcluster\n",
    "#from sklearn.preprocessing import StandardScale\n",
    "import random   \n",
    "from sklearn.tree import DecisionTreeClassifier\n",
    "from sklearn.ensemble import RandomForestClassifier, GradientBoostingClassifier\n",
    "\n"
   ]
  },
  {
   "cell_type": "markdown",
   "id": "1f1d6af9",
   "metadata": {},
   "source": [
    "## Loading the data & cleaning (if necessary)"
   ]
  },
  {
   "cell_type": "code",
   "execution_count": 10,
   "id": "2e4f76c7",
   "metadata": {},
   "outputs": [],
   "source": [
    "#import everything\n",
    "df = pd.read_csv(\"top_10000_1950-now.csv\")\n",
    "\n",
    "#a = df.describe\n",
    "#a= df.columns\n",
    "#print(a)\n",
    "\n",
    "#oh cleaning is definetley necessary\n",
    "#dropping the useless columns. \n",
    "df.drop(columns=['Track URI', 'Artist URI(s)', 'Album URI','Album Name', 'Album Artist URI(s)', \n",
    "        'Album Artist Name(s)', 'Album Image URL',\n",
    "        'Disc Number', 'Track Number','Track Preview URL','ISRC', 'Artist Genres', #matt said to drop artist genre lol\n",
    "        'Added By', 'Added At','Album Genres', 'Label', 'Copyrights'], axis=1, inplace=True)\n",
    "#print(df.columns)\n",
    "\n",
    "#dropping rows that don't have enough values lol\n",
    "df = df.dropna(subset=['Danceability'])\n",
    "\n",
    "\n",
    "#fixing the columns that literally have 5 values missing :)\n",
    "fixableFiveColumns = ['Danceability', 'Energy', 'Key','Loudness','Mode', 'Speechiness',\n",
    "'Acousticness', 'Instrumentalness', 'Liveness', 'Valence','Tempo', 'Time Signature']\n",
    "\n",
    "for i in fixableFiveColumns:\n",
    "    daMean = df[i].mean()\n",
    "    #df[i].fillna(daMean)\n",
    "    df[i] = df[i].fillna(daMean)\n",
    "\n",
    "\n",
    "\n",
    "#now the Albumn Release Date\n",
    "#we just have to grab the first 4 digits bc that's the year\n",
    "df['Album Release Date'] = df['Album Release Date'].astype(str).str[:4].astype(int)\n",
    "#to check it \n",
    "#df['Album Release Date'].head()\n",
    "\n",
    "\n",
    "#now the explicit column. convert to binary\n",
    "df['Explicit'] = df['Explicit'].astype(int)\n",
    "#df['Explicit'].head()\n",
    "\n",
    "\n",
    "# Filter the new isPopular column. \n",
    "thresh = 51 #51% gives the best confusion matrix, but 58% accuracy\n",
    "df[\"isPopular\"] = ((df['Popularity'] >= thresh).astype(int))\n",
    "\n",
    "#let's try songs with popularity <=5\n",
    "df = df[df['Popularity'] > 5]\n",
    "df = df.reset_index(drop=True)\n",
    "\n",
    "\n",
    "\n"
   ]
  },
  {
   "cell_type": "markdown",
   "id": "72313c3c",
   "metadata": {},
   "source": [
    "## Logistic Regression model!"
   ]
  },
  {
   "cell_type": "code",
   "execution_count": 11,
   "id": "191d16c2",
   "metadata": {},
   "outputs": [
    {
     "name": "stdout",
     "output_type": "stream",
     "text": [
      "10\n",
      "2\n"
     ]
    }
   ],
   "source": [
    "#define the axises\n",
    "x= df.drop(columns=['Popularity', 'Track Name','Artist Name(s)', \"isPopular\", \"Tempo\", \"Speechiness\", \"Mode\", \"Time Signature\", \"Key\"] )#this list will continue growing lol\n",
    "y = df[\"isPopular\"]\n",
    "\n",
    "#split the data up 50%, 25% 25%\n",
    "X_temp, X_holdout, y_temp, y_holdout = train_test_split(\n",
    "    x, y, test_size=0.25, random_state=44) #in memory of the wendy's 4 for 4 meal\n",
    "\n",
    "#Split temp into train (50%) & test (25%)\n",
    "X_train, X_test, y_train, y_test = train_test_split(\n",
    "    X_temp, y_temp, test_size=0.3333, random_state=44)\n",
    "\n",
    "\n",
    "\n",
    "print(x.shape[1])\n",
    "print(y.nunique())\n",
    "\n"
   ]
  },
  {
   "cell_type": "code",
   "execution_count": 12,
   "id": "615b5843",
   "metadata": {},
   "outputs": [
    {
     "name": "stdout",
     "output_type": "stream",
     "text": [
      "Optimization terminated successfully.\n",
      "         Current function value: 0.666215\n",
      "         Iterations 5\n",
      "                           Logit Regression Results                           \n",
      "==============================================================================\n",
      "Dep. Variable:              isPopular   No. Observations:                 3372\n",
      "Model:                          Logit   Df Residuals:                     3361\n",
      "Method:                           MLE   Df Model:                           10\n",
      "Date:                Mon, 28 Apr 2025   Pseudo R-squ.:                 0.03809\n",
      "Time:                        20:39:40   Log-Likelihood:                -2246.5\n",
      "converged:                       True   LL-Null:                       -2335.4\n",
      "Covariance Type:            nonrobust   LLR p-value:                 6.364e-33\n",
      "=======================================================================================\n",
      "                          coef    std err          z      P>|z|      [0.025      0.975]\n",
      "---------------------------------------------------------------------------------------\n",
      "const                  45.4963      5.670      8.024      0.000      34.384      56.609\n",
      "Album Release Date     -0.0225      0.003     -8.071      0.000      -0.028      -0.017\n",
      "Track Duration (ms)  3.112e-06   7.55e-07      4.124      0.000    1.63e-06    4.59e-06\n",
      "Explicit                0.7112      0.165      4.306      0.000       0.387       1.035\n",
      "Danceability            1.5036      0.303      4.958      0.000       0.909       2.098\n",
      "Energy                 -1.0003      0.328     -3.045      0.002      -1.644      -0.357\n",
      "Loudness                0.1104      0.018      6.276      0.000       0.076       0.145\n",
      "Acousticness           -0.5439      0.196     -2.775      0.006      -0.928      -0.160\n",
      "Instrumentalness       -0.8332      0.334     -2.496      0.013      -1.488      -0.179\n",
      "Liveness               -0.8462      0.249     -3.398      0.001      -1.334      -0.358\n",
      "Valence                -0.7288      0.197     -3.693      0.000      -1.116      -0.342\n",
      "=======================================================================================\n"
     ]
    }
   ],
   "source": [
    "#I'm going to use the logit instead of LinearRegression. Logit is better for p-values\n",
    "\n",
    "xTrainConst = sm.add_constant(X_train)\n",
    "\n",
    "\n",
    "logitModel = sm.Logit(y_train, xTrainConst)\n",
    "result = logitModel.fit()\n",
    "\n",
    "print(result.summary())\n",
    "\n",
    "\n",
    "\n"
   ]
  },
  {
   "cell_type": "markdown",
   "id": "2174423a",
   "metadata": {},
   "source": [
    "Testing the logistic model on the testing data now"
   ]
  },
  {
   "cell_type": "code",
   "execution_count": 13,
   "id": "6b58caa6",
   "metadata": {},
   "outputs": [
    {
     "name": "stdout",
     "output_type": "stream",
     "text": [
      "[[557 303]\n",
      " [405 421]]\n",
      "Accuracy: 0.5800711743772242\n",
      "              precision    recall  f1-score   support\n",
      "\n",
      "           0       0.58      0.65      0.61       860\n",
      "           1       0.58      0.51      0.54       826\n",
      "\n",
      "    accuracy                           0.58      1686\n",
      "   macro avg       0.58      0.58      0.58      1686\n",
      "weighted avg       0.58      0.58      0.58      1686\n",
      "\n"
     ]
    }
   ],
   "source": [
    "\n",
    "#we want an ROC curve here too.\n",
    "ypredProbs = result.predict(sm.add_constant(X_test))\n",
    "yPredBinary = (ypredProbs >= 0.5).astype(int)\n",
    "\n",
    "\n",
    "#print the confusion matrix\n",
    "#    |   TN- high  FP- low  |\n",
    " #1  |   FN- low   TP- high  |\n",
    "\n",
    "print(confusion_matrix(y_test, yPredBinary))\n",
    "\n",
    "\n",
    "#Evaluating da performance\n",
    "print(\"Accuracy:\", accuracy_score(y_test, yPredBinary))\n",
    "print(classification_report(y_test, yPredBinary))\n",
    "\n",
    "#Currently it is 4% accurate :(\n",
    "#NOW 67% ACCURATE BUT IT'S NOT TRULY WORKING\n",
    "#53% but the matrix looks alot better\n",
    "#BOOM SWITCHED TO LOGIT & WE GOT A 67.6 ACCURACY\n",
    "\n",
    "\n"
   ]
  },
  {
   "cell_type": "code",
   "execution_count": 14,
   "id": "4b5a7e03",
   "metadata": {},
   "outputs": [
    {
     "name": "stdout",
     "output_type": "stream",
     "text": [
      "valence_bin\n",
      "(0.0, 0.2]    49.346154\n",
      "(0.2, 0.4]    48.579032\n",
      "(0.4, 0.6]    49.128205\n",
      "(0.6, 0.8]    47.832518\n",
      "(0.8, 1.0]    46.610356\n",
      "Name: Popularity, dtype: float64\n"
     ]
    },
    {
     "name": "stderr",
     "output_type": "stream",
     "text": [
      "/tmp/ipykernel_1451/404129331.py:5: FutureWarning: The default of observed=False is deprecated and will be changed to True in a future version of pandas. Pass observed=False to retain current behavior or observed=True to adopt the future default and silence this warning.\n",
      "  valence_grouped = df.groupby('valence_bin')['Popularity'].mean()\n"
     ]
    }
   ],
   "source": [
    "# Bin valence into 5 buckets\n",
    "df['valence_bin'] = pd.cut(df['Valence'], bins=[0, 0.2, 0.4, 0.6, 0.8, 1.0])\n",
    "\n",
    "# Group by bins and calculate mean popularity\n",
    "valence_grouped = df.groupby('valence_bin')['Popularity'].mean()\n",
    "\n",
    "print(valence_grouped)\n",
    "\n",
    "\n"
   ]
  },
  {
   "cell_type": "code",
   "execution_count": 15,
   "id": "cdfb8c90",
   "metadata": {},
   "outputs": [
    {
     "data": {
      "image/png": "[encoded data removed]",
      "text/plain": [
       "<Figure size 800x600 with 1 Axes>"
      ]
     },
     "metadata": {},
     "output_type": "display_data"
    }
   ],
   "source": [
    "y_pred_prob = result.predict(sm.add_constant(X_test))  # if using statsmodels Logit\n",
    "\n",
    "# 2. Compute ROC curve values\n",
    "fpr, tpr, thresholds = roc_curve(y_test, y_pred_prob)\n",
    "\n",
    "# 3. Compute AUC (Area Under Curve)\n",
    "roc_auc = roc_auc_score(y_test, y_pred_prob)\n",
    "\n",
    "# 4. Plot\n",
    "plt.figure(figsize=(8, 6))\n",
    "plt.plot(fpr, tpr, label=f'ROC Curve (AUC = {roc_auc:.2f})')\n",
    "plt.plot([0, 1], [0, 1], 'k--', label=\"Random Guessing\")\n",
    "plt.xlabel('FP rate')\n",
    "plt.ylabel('TP rate')\n",
    "plt.title('ROC Curve')\n",
    "plt.legend(loc='lower right')\n",
    "plt.grid(True)\n"
   ]
  },
  {
   "cell_type": "code",
   "execution_count": 16,
   "id": "a4535859",
   "metadata": {},
   "outputs": [
    {
     "name": "stdout",
     "output_type": "stream",
     "text": [
      "\n",
      "Feature: Album Release Date\n",
      "Album Release Date_bin\n",
      "(1954.931, 1968.8]    48.718033\n",
      "(1968.8, 1982.6]      52.528133\n",
      "(1982.6, 1996.4]      48.393792\n",
      "(1996.4, 2010.2]      45.503182\n",
      "(2010.2, 2024.0]      48.863561\n",
      "Name: Popularity, dtype: float64\n",
      "\n",
      "Feature: Track Duration (ms)\n",
      "Track Duration (ms)_bin\n",
      "(58591.96, 360301.0]      48.147608\n",
      "(360301.0, 660509.0]      45.791667\n",
      "(660509.0, 960717.0]            NaN\n",
      "(960717.0, 1260925.0]     48.000000\n",
      "(1260925.0, 1561133.0]    47.000000\n",
      "Name: Popularity, dtype: float64\n",
      "\n",
      "Feature: Danceability\n",
      "Danceability_bin\n",
      "(-0.000988, 0.198]    41.045455\n",
      "(0.198, 0.395]        45.297297\n",
      "(0.395, 0.593]        46.920628\n",
      "(0.593, 0.79]         48.593867\n",
      "(0.79, 0.988]         52.549080\n",
      "Name: Popularity, dtype: float64\n",
      "\n",
      "Feature: Energy\n",
      "Energy_bin\n",
      "(-0.000977, 0.199]    43.178571\n",
      "(0.199, 0.399]        45.584121\n",
      "(0.399, 0.598]        47.962729\n",
      "(0.598, 0.798]        49.184804\n",
      "(0.798, 0.997]        47.775435\n",
      "Name: Popularity, dtype: float64\n",
      "\n",
      "Feature: Loudness\n",
      "Loudness_bin\n",
      "(-25.445, -20.408]    47.666667\n",
      "(-20.408, -15.395]    45.075758\n",
      "(-15.395, -10.383]    44.014881\n",
      "(-10.383, -5.37]      48.517810\n",
      "(-5.37, -0.358]       49.556264\n",
      "Name: Popularity, dtype: float64\n",
      "\n",
      "Feature: Acousticness\n",
      "Acousticness_bin\n",
      "(-0.000984, 0.197]    49.023595\n",
      "(0.197, 0.395]        49.205589\n",
      "(0.395, 0.592]        46.565289\n",
      "(0.592, 0.79]         42.951175\n",
      "(0.79, 0.987]         43.383142\n",
      "Name: Popularity, dtype: float64\n",
      "\n",
      "Feature: Instrumentalness\n",
      "Instrumentalness_bin\n",
      "(-0.000985, 0.197]    48.281124\n",
      "(0.197, 0.394]        45.726190\n",
      "(0.394, 0.591]        44.108108\n",
      "(0.591, 0.788]        46.366667\n",
      "(0.788, 0.985]        38.865385\n",
      "Name: Popularity, dtype: float64\n",
      "\n",
      "Feature: Liveness\n",
      "Liveness_bin\n",
      "(0.011, 0.205]    48.615401\n",
      "(0.205, 0.399]    47.487708\n",
      "(0.399, 0.592]    45.481356\n",
      "(0.592, 0.786]    47.124183\n",
      "(0.786, 0.979]    38.176471\n",
      "Name: Popularity, dtype: float64\n"
     ]
    },
    {
     "name": "stderr",
     "output_type": "stream",
     "text": [
      "/tmp/ipykernel_1451/449669938.py:21: FutureWarning: The default of observed=False is deprecated and will be changed to True in a future version of pandas. Pass observed=False to retain current behavior or observed=True to adopt the future default and silence this warning.\n",
      "  grouped = df.groupby(f'{feature}_bin')['Popularity'].mean()\n",
      "/tmp/ipykernel_1451/449669938.py:21: FutureWarning: The default of observed=False is deprecated and will be changed to True in a future version of pandas. Pass observed=False to retain current behavior or observed=True to adopt the future default and silence this warning.\n",
      "  grouped = df.groupby(f'{feature}_bin')['Popularity'].mean()\n",
      "/tmp/ipykernel_1451/449669938.py:21: FutureWarning: The default of observed=False is deprecated and will be changed to True in a future version of pandas. Pass observed=False to retain current behavior or observed=True to adopt the future default and silence this warning.\n",
      "  grouped = df.groupby(f'{feature}_bin')['Popularity'].mean()\n",
      "/tmp/ipykernel_1451/449669938.py:21: FutureWarning: The default of observed=False is deprecated and will be changed to True in a future version of pandas. Pass observed=False to retain current behavior or observed=True to adopt the future default and silence this warning.\n",
      "  grouped = df.groupby(f'{feature}_bin')['Popularity'].mean()\n",
      "/tmp/ipykernel_1451/449669938.py:21: FutureWarning: The default of observed=False is deprecated and will be changed to True in a future version of pandas. Pass observed=False to retain current behavior or observed=True to adopt the future default and silence this warning.\n",
      "  grouped = df.groupby(f'{feature}_bin')['Popularity'].mean()\n",
      "/tmp/ipykernel_1451/449669938.py:21: FutureWarning: The default of observed=False is deprecated and will be changed to True in a future version of pandas. Pass observed=False to retain current behavior or observed=True to adopt the future default and silence this warning.\n",
      "  grouped = df.groupby(f'{feature}_bin')['Popularity'].mean()\n",
      "/tmp/ipykernel_1451/449669938.py:21: FutureWarning: The default of observed=False is deprecated and will be changed to True in a future version of pandas. Pass observed=False to retain current behavior or observed=True to adopt the future default and silence this warning.\n",
      "  grouped = df.groupby(f'{feature}_bin')['Popularity'].mean()\n",
      "/tmp/ipykernel_1451/449669938.py:21: FutureWarning: The default of observed=False is deprecated and will be changed to True in a future version of pandas. Pass observed=False to retain current behavior or observed=True to adopt the future default and silence this warning.\n",
      "  grouped = df.groupby(f'{feature}_bin')['Popularity'].mean()\n"
     ]
    }
   ],
   "source": [
    "features_to_bin = [\n",
    "    'Album Release Date',\n",
    "    'Track Duration (ms)',\n",
    "    'Danceability',\n",
    "    'Energy',\n",
    "    'Loudness',\n",
    "    'Acousticness',\n",
    "    'Instrumentalness',\n",
    "    'Liveness'\n",
    "]\n",
    "\n",
    "# Create a dictionary to store results\n",
    "binned_feature_popularity = {}\n",
    "\n",
    "# Loop through each feature\n",
    "for feature in features_to_bin:\n",
    "    # 1. Bin feature into 5 equal-width buckets\n",
    "    df[f'{feature}_bin'] = pd.cut(df[feature], bins=5)\n",
    "    \n",
    "    # 2. Group by bin and calculate mean popularity\n",
    "    grouped = df.groupby(f'{feature}_bin')['Popularity'].mean()\n",
    "    \n",
    "    # 3. Store results\n",
    "    binned_feature_popularity[feature] = grouped\n",
    "\n",
    "# Display results\n",
    "for feature, grouped in binned_feature_popularity.items():\n",
    "    print(f\"\\nFeature: {feature}\")\n",
    "    print(grouped)"
   ]
  }
 ],
 "metadata": {
  "kernelspec": {
   "display_name": "islp",
   "language": "python",
   "name": "python3"
  },
  "language_info": {
   "codemirror_mode": {
    "name": "ipython",
    "version": 3
   },
   "file_extension": ".py",
   "mimetype": "text/x-python",
   "name": "python",
   "nbconvert_exporter": "python",
   "pygments_lexer": "ipython3",
   "version": "3.13.1"
  }
 },
 "nbformat": 4,
 "nbformat_minor": 5
}
